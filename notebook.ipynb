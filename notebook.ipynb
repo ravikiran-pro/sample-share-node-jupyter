{
 "cells": [
  {
   "cell_type": "code",
   "execution_count": 1,
   "id": "fdb7fe43-3d15-4247-8870-222b5f40e0af",
   "metadata": {},
   "outputs": [],
   "source": [
    "const { Client } = require('pg');"
   ]
  },
  {
   "cell_type": "code",
   "execution_count": null,
   "id": "2608477e-265c-4696-b686-333868fe907c",
   "metadata": {},
   "outputs": [],
   "source": [
    "let client = null;"
   ]
  },
  {
   "cell_type": "code",
   "execution_count": 33,
   "id": "2bf0a192-bf73-4229-8e83-9ac6ab529dcd",
   "metadata": {},
   "outputs": [
    {
     "name": "stdout",
     "output_type": "stream",
     "text": [
      "client got initiated\n"
     ]
    }
   ],
   "source": [
    "client = new Client({\n",
    "  user: 'postgres',\n",
    "  host: 'localhost',\n",
    "  database: 'books',\n",
    "  password: '12345678',\n",
    "  port: 5432,\n",
    "});\n",
    "\n",
    "console.log(\"client got initiated\")"
   ]
  },
  {
   "cell_type": "code",
   "execution_count": 34,
   "id": "fe439585-4113-43b7-b611-2d4c4bdfc2ff",
   "metadata": {},
   "outputs": [
    {
     "name": "stdout",
     "output_type": "stream",
     "text": [
      "Client connected successfully\n"
     ]
    }
   ],
   "source": [
    "\n",
    "client.connect();\n",
    "\n",
    "console.log('Client connected successfully');\n"
   ]
  },
  {
   "cell_type": "code",
   "execution_count": 21,
   "id": "c5eea805-fc49-4657-951e-5f985dea34f9",
   "metadata": {},
   "outputs": [
    {
     "name": "stdout",
     "output_type": "stream",
     "text": [
      "Client connection ended successfully\n"
     ]
    }
   ],
   "source": [
    "\n",
    "client.end();\n",
    "\n",
    "console.log('Client connection ended successfully');\n"
   ]
  },
  {
   "cell_type": "code",
   "execution_count": 18,
   "id": "349a4651-b3b7-4680-b432-6f79e640d5e8",
   "metadata": {},
   "outputs": [
    {
     "name": "stdout",
     "output_type": "stream",
     "text": [
      "Client connected successfully\n"
     ]
    },
    {
     "name": "stderr",
     "output_type": "stream",
     "text": [
      "Error: Client has already been connected. You cannot reuse a client.\n",
      "    at Client._connect (/home/dell/Projects/jupyter/node-notebook/node_modules/pg/lib/client.js:94:19)\n",
      "    at /home/dell/Projects/jupyter/node-notebook/node_modules/pg/lib/client.js:167:12\n",
      "    at new Promise (<anonymous>)\n",
      "    at Client.connect (/home/dell/Projects/jupyter/node-notebook/node_modules/pg/lib/client.js:166:12)\n",
      "    at evalmachine.<anonymous>:2:8\n",
      "    at Script.runInThisContext (node:vm:129:12)\n",
      "    at Object.runInThisContext (node:vm:313:38)\n",
      "    at run ([eval]:1020:15)\n",
      "    at onRunRequest ([eval]:864:18)\n",
      "    at onMessage ([eval]:828:13)"
     ]
    }
   ],
   "source": [
    "\n",
    "client.connect();\n",
    "\n",
    "console.log('Client connected successfully');\n"
   ]
  },
  {
   "cell_type": "code",
   "execution_count": 49,
   "id": "94e799c3-b48e-4f5a-86ee-4cf4e29af5f0",
   "metadata": {},
   "outputs": [],
   "source": [
    "const showAllTables = async () => {\n",
    "  try {\n",
    "    // Query to get all table names\n",
    "    const res = await client.query(`\n",
    "      SELECT table_name\n",
    "      FROM information_schema.tables\n",
    "      WHERE table_schema = 'public'\n",
    "      ORDER BY table_name;\n",
    "    `);\n",
    "    return res.rows.forEach(row => console.log(row.table_name));\n",
    "  } catch (err) {\n",
    "    console.error('Error executing query', err.stack);\n",
    "  }\n",
    "}"
   ]
  },
  {
   "cell_type": "code",
   "execution_count": 54,
   "id": "f4a5deda-e45f-47c6-b6d3-bb81e0f12eb7",
   "metadata": {},
   "outputs": [
    {
     "data": {
      "text/plain": [
       "Promise { <pending> }"
      ]
     },
     "execution_count": 54,
     "metadata": {},
     "output_type": "execute_result"
    }
   ],
   "source": [
    "(async () => {\n",
    "  try {\n",
    "      \n",
    "    // Drop table is exists\n",
    "    await client.query('DROP TABLE IF EXISTS books, authors, publishers CASCADE');\n",
    "\n",
    "  } catch (err) {\n",
    "    console.error('Error executing query', err.stack);\n",
    "  }\n",
    "})();"
   ]
  },
  {
   "cell_type": "code",
   "execution_count": null,
   "id": "7a4bccd8-d926-43d0-81ea-1b7d64707a91",
   "metadata": {},
   "outputs": [],
   "source": [
    "(async () => {\n",
    "  try { \n",
    "    // uuid-ossp for uuid generation extension\n",
    "     await client.query(`\n",
    "          CREATE EXTENSION IF NOT EXISTS \"uuid-ossp\";\n",
    "        `);\n",
    "  } catch (err) {\n",
    "    console.error('Error executing query', err.stack);\n",
    "  }\n",
    "})();"
   ]
  },
  {
   "cell_type": "code",
   "execution_count": 53,
   "id": "847e88c6-e2bc-48cf-a7bd-d3576e3f3576",
   "metadata": {},
   "outputs": [
    {
     "ename": "SyntaxError",
     "evalue": "Invalid or unexpected token",
     "execution_count": 53,
     "output_type": "error",
     "traceback": [
      "evalmachine.<anonymous>:9",
      "    console.log(\"publisher table created);",
      "                ^^^^^^^^^^^^^^^^^^^^^^^^^^",
      "",
      "SyntaxError: Invalid or unexpected token",
      "    at new Script (node:vm:100:7)",
      "    at createScript (node:vm:265:10)",
      "    at Object.runInThisContext (node:vm:313:10)",
      "    at run ([eval]:1020:15)",
      "    at onRunRequest ([eval]:864:18)",
      "    at onMessage ([eval]:828:13)",
      "    at process.emit (node:events:513:28)",
      "    at emit (node:internal/child_process:937:14)",
      "    at process.processTicksAndRejections (node:internal/process/task_queues:83:21)"
     ]
    }
   ],
   "source": [
    "const createPublisher = async () => {\n",
    "  try {\n",
    "    await client.query(`\n",
    "          CREATE TABLE publishers (\n",
    "            publisherID UUID PRIMARY KEY DEFAULT uuid_generate_v4(),\n",
    "            name VARCHAR(255) NOT NULL\n",
    "          );\n",
    "    `);\n",
    "    console.log(\"Table created: Publisher\")\n",
    "  } catch (err) {\n",
    "    console.error('Error executing query', err.stack);\n",
    "  }\n",
    "}\n",
    "\n",
    "const createAuthors = async () => {\n",
    "  try {\n",
    "    await client.query(`\n",
    "          CREATE TABLE authors (\n",
    "            authorID UUID PRIMARY KEY DEFAULT uuid_generate_v4(),\n",
    "            name VARCHAR(255) NOT NULL\n",
    "          );\n",
    "    `);\n",
    "    console.log(\"Table created: Authors\")\n",
    "  } catch (err) {\n",
    "    console.error('Error executing query', err.stack);\n",
    "  }\n",
    "};\n",
    "\n",
    "const createBooks =  async () => {\n",
    "  try {\n",
    "    await client.query(`\n",
    "       CREATE TABLE books (\n",
    "            bookID UUID PRIMARY KEY DEFAULT uuid_generate_v4(),\n",
    "            title VARCHAR(255) NOT NULL,\n",
    "            average_rating FLOAT,\n",
    "            isbn VARCHAR(13),\n",
    "            isbn13 VARCHAR(13),\n",
    "            language_code VARCHAR(10),\n",
    "            num_pages INT,\n",
    "            ratings_count INT,\n",
    "            text_reviews_count INT,\n",
    "            publication_date DATE,\n",
    "            publisherID UUID REFERENCES publishers(publisherID),\n",
    "            authorID UUID REFERENCES authors(authorID)\n",
    "          );\n",
    "    `);\n",
    "    console.log(\"Table created: Books\")\n",
    "  } catch (err) {\n",
    "    console.error('Error executing query', err.stack);\n",
    "  }\n",
    "}"
   ]
  },
  {
   "cell_type": "code",
   "execution_count": 55,
   "id": "c51c0208-246c-4527-8a9d-1ea85599dd94",
   "metadata": {},
   "outputs": [
    {
     "data": {
      "text/plain": [
       "Promise { <pending> }"
      ]
     },
     "execution_count": 55,
     "metadata": {},
     "output_type": "execute_result"
    }
   ],
   "source": [
    "createPublisher();"
   ]
  },
  {
   "cell_type": "code",
   "execution_count": 56,
   "id": "3ade20aa-f912-4904-a860-50c4aad97fbc",
   "metadata": {},
   "outputs": [
    {
     "data": {
      "text/plain": [
       "Promise { <pending> }"
      ]
     },
     "execution_count": 56,
     "metadata": {},
     "output_type": "execute_result"
    }
   ],
   "source": [
    "createAuthors();"
   ]
  },
  {
   "cell_type": "code",
   "execution_count": 57,
   "id": "541bc4ff-2bba-4b08-907a-d57fcbdbfaae",
   "metadata": {},
   "outputs": [
    {
     "data": {
      "text/plain": [
       "Promise { <pending> }"
      ]
     },
     "execution_count": 57,
     "metadata": {},
     "output_type": "execute_result"
    }
   ],
   "source": [
    "createBooks();"
   ]
  },
  {
   "cell_type": "code",
   "execution_count": 58,
   "id": "3d996158-9bc0-4ed5-b059-bf1ebd2bdd7e",
   "metadata": {},
   "outputs": [
    {
     "data": {
      "text/plain": [
       "Promise { <pending> }"
      ]
     },
     "execution_count": 58,
     "metadata": {},
     "output_type": "execute_result"
    },
    {
     "name": "stdout",
     "output_type": "stream",
     "text": [
      "Result {\n",
      "  command: 'SELECT',\n",
      "  rowCount: 3,\n",
      "  oid: null,\n",
      "  rows: [\n",
      "    { table_name: 'authors' },\n",
      "    { table_name: 'books' },\n",
      "    { table_name: 'publishers' }\n",
      "  ],\n",
      "  fields: [\n",
      "    Field {\n",
      "      name: 'table_name',\n",
      "      tableID: 13647,\n",
      "      columnID: 3,\n",
      "      dataTypeID: 19,\n",
      "      dataTypeSize: 64,\n",
      "      dataTypeModifier: -1,\n",
      "      format: 'text'\n",
      "    }\n",
      "  ],\n",
      "  _parsers: [ [Function: noParse] ],\n",
      "  _types: TypeOverrides {\n",
      "    _types: {\n",
      "      getTypeParser: [Function: getTypeParser],\n",
      "      setTypeParser: [Function: setTypeParser],\n",
      "      arrayParser: [Object],\n",
      "      builtins: [Object]\n",
      "    },\n",
      "    text: {},\n",
      "    binary: {}\n",
      "  },\n",
      "  RowCtor: null,\n",
      "  rowAsArray: false,\n",
      "  _prebuiltEmptyResultObject: { table_name: null }\n",
      "}\n",
      "authors\n",
      "books\n",
      "publishers\n"
     ]
    }
   ],
   "source": [
    "showAllTables()"
   ]
  },
  {
   "cell_type": "code",
   "execution_count": null,
   "id": "abeb52d5-1114-4040-8329-66b9cdd6c0cd",
   "metadata": {},
   "outputs": [],
   "source": []
  }
 ],
 "metadata": {
  "kernelspec": {
   "display_name": "JavaScript (Node.js)",
   "language": "javascript",
   "name": "javascript"
  },
  "language_info": {
   "file_extension": ".js",
   "mimetype": "application/javascript",
   "name": "javascript",
   "version": "18.12.1"
  }
 },
 "nbformat": 4,
 "nbformat_minor": 5
}
